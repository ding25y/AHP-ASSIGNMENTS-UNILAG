{
 "cells": [
  {
   "cell_type": "markdown",
   "metadata": {},
   "source": [
    "# AHP ASSIGNMENT TO SELECT THE BEST PRESIDENTIAL CANDIDATE"
   ]
  },
  {
   "cell_type": "code",
   "execution_count": 7,
   "metadata": {},
   "outputs": [],
   "source": [
    "import numpy as np\n",
    "import pandas as pd\n",
    "from sklearn.preprocessing import Normalizer"
   ]
  },
  {
   "cell_type": "markdown",
   "metadata": {},
   "source": [
    "# RANKING OF CRITERIA \n",
    "Attributes chosen are as follows \n",
    "1. Education\n",
    "2. Age\n",
    "3. Truthful\n",
    "4. Integrity"
   ]
  },
  {
   "cell_type": "code",
   "execution_count": 8,
   "metadata": {},
   "outputs": [],
   "source": [
    " criteria = pd.DataFrame({'Education':[1,0.33,2,0.5], 'Age':[3,1,3,3],\n",
    "              \"Truthful\": [0.5,0.33,1,0.5], \"Integrity\": [2,0.33,2,1]},\n",
    "             index = [\"Education\",\"Age\",\"Truthful\", \"Integrity\"])"
   ]
  },
  {
   "cell_type": "code",
   "execution_count": 9,
   "metadata": {},
   "outputs": [
    {
     "data": {
      "text/html": [
       "<div>\n",
       "<style scoped>\n",
       "    .dataframe tbody tr th:only-of-type {\n",
       "        vertical-align: middle;\n",
       "    }\n",
       "\n",
       "    .dataframe tbody tr th {\n",
       "        vertical-align: top;\n",
       "    }\n",
       "\n",
       "    .dataframe thead th {\n",
       "        text-align: right;\n",
       "    }\n",
       "</style>\n",
       "<table border=\"1\" class=\"dataframe\">\n",
       "  <thead>\n",
       "    <tr style=\"text-align: right;\">\n",
       "      <th></th>\n",
       "      <th>Age</th>\n",
       "      <th>Education</th>\n",
       "      <th>Integrity</th>\n",
       "      <th>Truthful</th>\n",
       "    </tr>\n",
       "  </thead>\n",
       "  <tbody>\n",
       "    <tr>\n",
       "      <th>Education</th>\n",
       "      <td>3</td>\n",
       "      <td>1.00</td>\n",
       "      <td>2.00</td>\n",
       "      <td>0.50</td>\n",
       "    </tr>\n",
       "    <tr>\n",
       "      <th>Age</th>\n",
       "      <td>1</td>\n",
       "      <td>0.33</td>\n",
       "      <td>0.33</td>\n",
       "      <td>0.33</td>\n",
       "    </tr>\n",
       "    <tr>\n",
       "      <th>Truthful</th>\n",
       "      <td>3</td>\n",
       "      <td>2.00</td>\n",
       "      <td>2.00</td>\n",
       "      <td>1.00</td>\n",
       "    </tr>\n",
       "    <tr>\n",
       "      <th>Integrity</th>\n",
       "      <td>3</td>\n",
       "      <td>0.50</td>\n",
       "      <td>1.00</td>\n",
       "      <td>0.50</td>\n",
       "    </tr>\n",
       "  </tbody>\n",
       "</table>\n",
       "</div>"
      ],
      "text/plain": [
       "           Age  Education  Integrity  Truthful\n",
       "Education    3       1.00       2.00      0.50\n",
       "Age          1       0.33       0.33      0.33\n",
       "Truthful     3       2.00       2.00      1.00\n",
       "Integrity    3       0.50       1.00      0.50"
      ]
     },
     "execution_count": 9,
     "metadata": {},
     "output_type": "execute_result"
    }
   ],
   "source": [
    "criteria"
   ]
  },
  {
   "cell_type": "code",
   "execution_count": 10,
   "metadata": {},
   "outputs": [],
   "source": [
    "#normalizing the critera\n",
    "criteria['Age'] = criteria['Age']/sum(criteria['Age'])\n",
    "criteria['Education'] = criteria['Education']/sum(criteria['Education'])\n",
    "criteria['Integrity'] = criteria['Integrity']/sum(criteria['Integrity'])\n",
    "criteria['Truthful'] = criteria['Truthful']/sum(criteria['Truthful'])"
   ]
  },
  {
   "cell_type": "code",
   "execution_count": 11,
   "metadata": {},
   "outputs": [
    {
     "data": {
      "text/html": [
       "<div>\n",
       "<style scoped>\n",
       "    .dataframe tbody tr th:only-of-type {\n",
       "        vertical-align: middle;\n",
       "    }\n",
       "\n",
       "    .dataframe tbody tr th {\n",
       "        vertical-align: top;\n",
       "    }\n",
       "\n",
       "    .dataframe thead th {\n",
       "        text-align: right;\n",
       "    }\n",
       "</style>\n",
       "<table border=\"1\" class=\"dataframe\">\n",
       "  <thead>\n",
       "    <tr style=\"text-align: right;\">\n",
       "      <th></th>\n",
       "      <th>Age</th>\n",
       "      <th>Education</th>\n",
       "      <th>Integrity</th>\n",
       "      <th>Truthful</th>\n",
       "    </tr>\n",
       "  </thead>\n",
       "  <tbody>\n",
       "    <tr>\n",
       "      <th>Education</th>\n",
       "      <td>0.3</td>\n",
       "      <td>0.261097</td>\n",
       "      <td>0.375235</td>\n",
       "      <td>0.214592</td>\n",
       "    </tr>\n",
       "    <tr>\n",
       "      <th>Age</th>\n",
       "      <td>0.1</td>\n",
       "      <td>0.086162</td>\n",
       "      <td>0.061914</td>\n",
       "      <td>0.141631</td>\n",
       "    </tr>\n",
       "    <tr>\n",
       "      <th>Truthful</th>\n",
       "      <td>0.3</td>\n",
       "      <td>0.522193</td>\n",
       "      <td>0.375235</td>\n",
       "      <td>0.429185</td>\n",
       "    </tr>\n",
       "    <tr>\n",
       "      <th>Integrity</th>\n",
       "      <td>0.3</td>\n",
       "      <td>0.130548</td>\n",
       "      <td>0.187617</td>\n",
       "      <td>0.214592</td>\n",
       "    </tr>\n",
       "  </tbody>\n",
       "</table>\n",
       "</div>"
      ],
      "text/plain": [
       "           Age  Education  Integrity  Truthful\n",
       "Education  0.3   0.261097   0.375235  0.214592\n",
       "Age        0.1   0.086162   0.061914  0.141631\n",
       "Truthful   0.3   0.522193   0.375235  0.429185\n",
       "Integrity  0.3   0.130548   0.187617  0.214592"
      ]
     },
     "execution_count": 11,
     "metadata": {},
     "output_type": "execute_result"
    }
   ],
   "source": [
    "criteria"
   ]
  },
  {
   "cell_type": "code",
   "execution_count": 12,
   "metadata": {},
   "outputs": [
    {
     "data": {
      "text/html": [
       "<div>\n",
       "<style scoped>\n",
       "    .dataframe tbody tr th:only-of-type {\n",
       "        vertical-align: middle;\n",
       "    }\n",
       "\n",
       "    .dataframe tbody tr th {\n",
       "        vertical-align: top;\n",
       "    }\n",
       "\n",
       "    .dataframe thead th {\n",
       "        text-align: right;\n",
       "    }\n",
       "</style>\n",
       "<table border=\"1\" class=\"dataframe\">\n",
       "  <thead>\n",
       "    <tr style=\"text-align: right;\">\n",
       "      <th></th>\n",
       "      <th>Age</th>\n",
       "      <th>Education</th>\n",
       "      <th>Integrity</th>\n",
       "      <th>Truthful</th>\n",
       "      <th>Rsum</th>\n",
       "      <th>Raverage/criteriaVector</th>\n",
       "    </tr>\n",
       "  </thead>\n",
       "  <tbody>\n",
       "    <tr>\n",
       "      <th>Education</th>\n",
       "      <td>0.3</td>\n",
       "      <td>0.261097</td>\n",
       "      <td>0.375235</td>\n",
       "      <td>0.214592</td>\n",
       "      <td>1.150923</td>\n",
       "      <td>0.287731</td>\n",
       "    </tr>\n",
       "    <tr>\n",
       "      <th>Age</th>\n",
       "      <td>0.1</td>\n",
       "      <td>0.086162</td>\n",
       "      <td>0.061914</td>\n",
       "      <td>0.141631</td>\n",
       "      <td>0.389706</td>\n",
       "      <td>0.097427</td>\n",
       "    </tr>\n",
       "    <tr>\n",
       "      <th>Truthful</th>\n",
       "      <td>0.3</td>\n",
       "      <td>0.522193</td>\n",
       "      <td>0.375235</td>\n",
       "      <td>0.429185</td>\n",
       "      <td>1.626612</td>\n",
       "      <td>0.406653</td>\n",
       "    </tr>\n",
       "    <tr>\n",
       "      <th>Integrity</th>\n",
       "      <td>0.3</td>\n",
       "      <td>0.130548</td>\n",
       "      <td>0.187617</td>\n",
       "      <td>0.214592</td>\n",
       "      <td>0.832758</td>\n",
       "      <td>0.208189</td>\n",
       "    </tr>\n",
       "  </tbody>\n",
       "</table>\n",
       "</div>"
      ],
      "text/plain": [
       "           Age  Education  Integrity  Truthful      Rsum  \\\n",
       "Education  0.3   0.261097   0.375235  0.214592  1.150923   \n",
       "Age        0.1   0.086162   0.061914  0.141631  0.389706   \n",
       "Truthful   0.3   0.522193   0.375235  0.429185  1.626612   \n",
       "Integrity  0.3   0.130548   0.187617  0.214592  0.832758   \n",
       "\n",
       "           Raverage/criteriaVector  \n",
       "Education                 0.287731  \n",
       "Age                       0.097427  \n",
       "Truthful                  0.406653  \n",
       "Integrity                 0.208189  "
      ]
     },
     "execution_count": 12,
     "metadata": {},
     "output_type": "execute_result"
    }
   ],
   "source": [
    "criteria[\"Rsum\"] = criteria.Age + criteria.Education + criteria.Integrity + criteria.Truthful\n",
    "criteria['Raverage/criteriaVector'] = criteria.Rsum/4\n",
    "criteria"
   ]
  },
  {
   "cell_type": "code",
   "execution_count": 13,
   "metadata": {},
   "outputs": [],
   "source": [
    "criteria[\"index\"] = criteria.index"
   ]
  },
  {
   "cell_type": "markdown",
   "metadata": {},
   "source": [
    "# VISUALIZING THE RESULTS \n"
   ]
  },
  {
   "cell_type": "code",
   "execution_count": 14,
   "metadata": {},
   "outputs": [],
   "source": [
    "import matplotlib.pyplot as plt\n",
    "import seaborn as sns"
   ]
  },
  {
   "cell_type": "code",
   "execution_count": 15,
   "metadata": {},
   "outputs": [
    {
     "data": {
      "text/plain": [
       "<matplotlib.axes._subplots.AxesSubplot at 0x1ee1f238358>"
      ]
     },
     "execution_count": 15,
     "metadata": {},
     "output_type": "execute_result"
    },
    {
     "data": {
      "image/png": "[encoded data removed]",
      "text/plain": [
       "<matplotlib.figure.Figure at 0x1ee1f1dedd8>"
      ]
     },
     "metadata": {},
     "output_type": "display_data"
    }
   ],
   "source": [
    "sns.barplot(x= \"index\" ,y= 'Raverage/criteriaVector',data=criteria)"
   ]
  },
  {
   "cell_type": "markdown",
   "metadata": {},
   "source": [
    "# NOW ITS TIME FOR THE MAIN DEAL\n",
    "Three alternatives were chosen for the presidential election as follows:\n",
    "1. BUHARI\n",
    "2. ATIKU\n",
    "3. FelaDurotoye"
   ]
  },
  {
   "cell_type": "markdown",
   "metadata": {},
   "source": [
    "# Making the platform user friendly\n",
    "\n",
    "i.e you can decide to change the values i used for ranking with respect to their attributes"
   ]
  },
  {
   "cell_type": "markdown",
   "metadata": {},
   "source": [
    "# FIRSTLY FOR THE ATTRIBUTE EDUCATION"
   ]
  },
  {
   "cell_type": "code",
   "execution_count": 20,
   "metadata": {},
   "outputs": [
    {
     "name": "stdout",
     "output_type": "stream",
     "text": [
      "please enter the ranking for the position 1\n",
      "please enter the ranking for the position 0.33\n",
      "please enter the ranking for the position 2\n",
      "please enter the ranking for the position 3\n",
      "please enter the ranking for the position 1\n",
      "please enter the ranking for the position 3\n",
      "please enter the ranking for the position 0.5\n",
      "please enter the ranking for the position 0.33\n",
      "please enter the ranking for the position 1\n"
     ]
    }
   ],
   "source": [
    "# for education\n",
    "a = float(input('please enter the ranking for the position '))\n",
    "b = float(input('please enter the ranking for the position '))\n",
    "c = float(input('please enter the ranking for the position '))\n",
    "d = float(input('please enter the ranking for the position '))\n",
    "e = float(input('please enter the ranking for the position '))\n",
    "f = float(input('please enter the ranking for the position '))\n",
    "g = float(input('please enter the ranking for the position '))\n",
    "h = float(input('please enter the ranking for the position '))\n",
    "i = float(input('please enter the ranking for the position '))"
   ]
  },
  {
   "cell_type": "code",
   "execution_count": 21,
   "metadata": {},
   "outputs": [],
   "source": [
    "Education  = pd.DataFrame({'Atiku':[a,b,c], 'Buhari':[d,e,f],\n",
    "              \"FelaDurotoye\": [g,h,i]},\n",
    "             index = [\"Atiku\",\"Buhari\",\"FelaDurotoye\"])"
   ]
  },
  {
   "cell_type": "code",
   "execution_count": 22,
   "metadata": {},
   "outputs": [
    {
     "data": {
      "text/html": [
       "<div>\n",
       "<style scoped>\n",
       "    .dataframe tbody tr th:only-of-type {\n",
       "        vertical-align: middle;\n",
       "    }\n",
       "\n",
       "    .dataframe tbody tr th {\n",
       "        vertical-align: top;\n",
       "    }\n",
       "\n",
       "    .dataframe thead th {\n",
       "        text-align: right;\n",
       "    }\n",
       "</style>\n",
       "<table border=\"1\" class=\"dataframe\">\n",
       "  <thead>\n",
       "    <tr style=\"text-align: right;\">\n",
       "      <th></th>\n",
       "      <th>Atiku</th>\n",
       "      <th>Buhari</th>\n",
       "      <th>FelaDurotoye</th>\n",
       "    </tr>\n",
       "  </thead>\n",
       "  <tbody>\n",
       "    <tr>\n",
       "      <th>Atiku</th>\n",
       "      <td>1.00</td>\n",
       "      <td>3.0</td>\n",
       "      <td>0.50</td>\n",
       "    </tr>\n",
       "    <tr>\n",
       "      <th>Buhari</th>\n",
       "      <td>0.33</td>\n",
       "      <td>1.0</td>\n",
       "      <td>0.33</td>\n",
       "    </tr>\n",
       "    <tr>\n",
       "      <th>FelaDurotoye</th>\n",
       "      <td>2.00</td>\n",
       "      <td>3.0</td>\n",
       "      <td>1.00</td>\n",
       "    </tr>\n",
       "  </tbody>\n",
       "</table>\n",
       "</div>"
      ],
      "text/plain": [
       "              Atiku  Buhari  FelaDurotoye\n",
       "Atiku          1.00     3.0          0.50\n",
       "Buhari         0.33     1.0          0.33\n",
       "FelaDurotoye   2.00     3.0          1.00"
      ]
     },
     "execution_count": 22,
     "metadata": {},
     "output_type": "execute_result"
    }
   ],
   "source": [
    "Education"
   ]
  },
  {
   "cell_type": "code",
   "execution_count": 23,
   "metadata": {},
   "outputs": [
    {
     "data": {
      "text/html": [
       "<div>\n",
       "<style scoped>\n",
       "    .dataframe tbody tr th:only-of-type {\n",
       "        vertical-align: middle;\n",
       "    }\n",
       "\n",
       "    .dataframe tbody tr th {\n",
       "        vertical-align: top;\n",
       "    }\n",
       "\n",
       "    .dataframe thead th {\n",
       "        text-align: right;\n",
       "    }\n",
       "</style>\n",
       "<table border=\"1\" class=\"dataframe\">\n",
       "  <thead>\n",
       "    <tr style=\"text-align: right;\">\n",
       "      <th></th>\n",
       "      <th>Atiku</th>\n",
       "      <th>Buhari</th>\n",
       "      <th>FelaDurotoye</th>\n",
       "      <th>Rsum</th>\n",
       "      <th>Raverage/criteriaVector</th>\n",
       "    </tr>\n",
       "  </thead>\n",
       "  <tbody>\n",
       "    <tr>\n",
       "      <th>Atiku</th>\n",
       "      <td>0.300300</td>\n",
       "      <td>0.428571</td>\n",
       "      <td>0.273224</td>\n",
       "      <td>1.002096</td>\n",
       "      <td>0.334032</td>\n",
       "    </tr>\n",
       "    <tr>\n",
       "      <th>Buhari</th>\n",
       "      <td>0.099099</td>\n",
       "      <td>0.142857</td>\n",
       "      <td>0.180328</td>\n",
       "      <td>0.422284</td>\n",
       "      <td>0.140761</td>\n",
       "    </tr>\n",
       "    <tr>\n",
       "      <th>FelaDurotoye</th>\n",
       "      <td>0.600601</td>\n",
       "      <td>0.428571</td>\n",
       "      <td>0.546448</td>\n",
       "      <td>1.575620</td>\n",
       "      <td>0.525207</td>\n",
       "    </tr>\n",
       "  </tbody>\n",
       "</table>\n",
       "</div>"
      ],
      "text/plain": [
       "                 Atiku    Buhari  FelaDurotoye      Rsum  \\\n",
       "Atiku         0.300300  0.428571      0.273224  1.002096   \n",
       "Buhari        0.099099  0.142857      0.180328  0.422284   \n",
       "FelaDurotoye  0.600601  0.428571      0.546448  1.575620   \n",
       "\n",
       "              Raverage/criteriaVector  \n",
       "Atiku                        0.334032  \n",
       "Buhari                       0.140761  \n",
       "FelaDurotoye                 0.525207  "
      ]
     },
     "execution_count": 23,
     "metadata": {},
     "output_type": "execute_result"
    }
   ],
   "source": [
    "#normalizing the critera\n",
    "Education['Atiku'] = Education['Atiku']/sum(Education['Atiku'])\n",
    "Education['Buhari'] = Education['Buhari']/sum(Education['Buhari'])\n",
    "Education['FelaDurotoye'] = Education['FelaDurotoye']/sum(Education['FelaDurotoye'])\n",
    "Education[\"Rsum\"] = Education.Atiku + Education.Buhari + Education.FelaDurotoye \n",
    "Education['Raverage/criteriaVector'] = Education.Rsum/3\n",
    "Education"
   ]
  },
  {
   "cell_type": "code",
   "execution_count": 24,
   "metadata": {},
   "outputs": [],
   "source": [
    "Education[\"Education\"] = Education.index"
   ]
  },
  {
   "cell_type": "markdown",
   "metadata": {},
   "source": [
    "# CONSIDERING THE ATTRIBUTE EDUCATION OUT OF 4 FELA DUROTOYE WON\n",
    "BUT THAT IS FOR MY OWN RANKING YOU CAN DECIDE TO CHANGE THE VALUES OF THE ATTRIBUTES"
   ]
  },
  {
   "cell_type": "code",
   "execution_count": 25,
   "metadata": {},
   "outputs": [
    {
     "data": {
      "text/plain": [
       "<matplotlib.axes._subplots.AxesSubplot at 0x1ee1f546f60>"
      ]
     },
     "execution_count": 25,
     "metadata": {},
     "output_type": "execute_result"
    },
    {
     "data": {
      "image/png": "[encoded data removed]",
      "text/plain": [
       "<matplotlib.figure.Figure at 0x1ee1f5082b0>"
      ]
     },
     "metadata": {},
     "output_type": "display_data"
    }
   ],
   "source": [
    "sns.barplot(x= \"Education\" ,y= 'Raverage/criteriaVector',data=Education)"
   ]
  },
  {
   "cell_type": "markdown",
   "metadata": {},
   "source": [
    "# AGE"
   ]
  },
  {
   "cell_type": "code",
   "execution_count": 26,
   "metadata": {},
   "outputs": [
    {
     "name": "stdout",
     "output_type": "stream",
     "text": [
      "please enter the ranking for the position 1\n",
      "please enter the ranking for the position 2\n",
      "please enter the ranking for the position 0.33\n",
      "please enter the ranking for the position 0.5\n",
      "please enter the ranking for the position 1\n",
      "please enter the ranking for the position 0.33\n",
      "please enter the ranking for the position 2\n",
      "please enter the ranking for the position 3\n",
      "please enter the ranking for the position 1\n"
     ]
    }
   ],
   "source": [
    "# for age\n",
    "a = float(input('please enter the ranking for the position '))\n",
    "b = float(input('please enter the ranking for the position '))\n",
    "c = float(input('please enter the ranking for the position '))\n",
    "d = float(input('please enter the ranking for the position '))\n",
    "e = float(input('please enter the ranking for the position '))\n",
    "f = float(input('please enter the ranking for the position '))\n",
    "g = float(input('please enter the ranking for the position '))\n",
    "h = float(input('please enter the ranking for the position '))\n",
    "i = float(input('please enter the ranking for the position '))"
   ]
  },
  {
   "cell_type": "code",
   "execution_count": 27,
   "metadata": {},
   "outputs": [],
   "source": [
    "Age  = pd.DataFrame({'Atiku':[a,b,c], 'Buhari':[d,e,f],\n",
    "              \"FelaDurotoye\": [g,h,i]},\n",
    "             index = [\"Atiku\",\"Buhari\",\"FelaDurotoye\"])"
   ]
  },
  {
   "cell_type": "code",
   "execution_count": 28,
   "metadata": {},
   "outputs": [
    {
     "data": {
      "text/html": [
       "<div>\n",
       "<style scoped>\n",
       "    .dataframe tbody tr th:only-of-type {\n",
       "        vertical-align: middle;\n",
       "    }\n",
       "\n",
       "    .dataframe tbody tr th {\n",
       "        vertical-align: top;\n",
       "    }\n",
       "\n",
       "    .dataframe thead th {\n",
       "        text-align: right;\n",
       "    }\n",
       "</style>\n",
       "<table border=\"1\" class=\"dataframe\">\n",
       "  <thead>\n",
       "    <tr style=\"text-align: right;\">\n",
       "      <th></th>\n",
       "      <th>Atiku</th>\n",
       "      <th>Buhari</th>\n",
       "      <th>FelaDurotoye</th>\n",
       "    </tr>\n",
       "  </thead>\n",
       "  <tbody>\n",
       "    <tr>\n",
       "      <th>Atiku</th>\n",
       "      <td>1.00</td>\n",
       "      <td>0.50</td>\n",
       "      <td>2.0</td>\n",
       "    </tr>\n",
       "    <tr>\n",
       "      <th>Buhari</th>\n",
       "      <td>2.00</td>\n",
       "      <td>1.00</td>\n",
       "      <td>3.0</td>\n",
       "    </tr>\n",
       "    <tr>\n",
       "      <th>FelaDurotoye</th>\n",
       "      <td>0.33</td>\n",
       "      <td>0.33</td>\n",
       "      <td>1.0</td>\n",
       "    </tr>\n",
       "  </tbody>\n",
       "</table>\n",
       "</div>"
      ],
      "text/plain": [
       "              Atiku  Buhari  FelaDurotoye\n",
       "Atiku          1.00    0.50           2.0\n",
       "Buhari         2.00    1.00           3.0\n",
       "FelaDurotoye   0.33    0.33           1.0"
      ]
     },
     "execution_count": 28,
     "metadata": {},
     "output_type": "execute_result"
    }
   ],
   "source": [
    "Age"
   ]
  },
  {
   "cell_type": "code",
   "execution_count": 29,
   "metadata": {},
   "outputs": [
    {
     "data": {
      "text/html": [
       "<div>\n",
       "<style scoped>\n",
       "    .dataframe tbody tr th:only-of-type {\n",
       "        vertical-align: middle;\n",
       "    }\n",
       "\n",
       "    .dataframe tbody tr th {\n",
       "        vertical-align: top;\n",
       "    }\n",
       "\n",
       "    .dataframe thead th {\n",
       "        text-align: right;\n",
       "    }\n",
       "</style>\n",
       "<table border=\"1\" class=\"dataframe\">\n",
       "  <thead>\n",
       "    <tr style=\"text-align: right;\">\n",
       "      <th></th>\n",
       "      <th>Atiku</th>\n",
       "      <th>Buhari</th>\n",
       "      <th>FelaDurotoye</th>\n",
       "      <th>Rsum</th>\n",
       "      <th>Raverage/criteriaVector</th>\n",
       "    </tr>\n",
       "  </thead>\n",
       "  <tbody>\n",
       "    <tr>\n",
       "      <th>Atiku</th>\n",
       "      <td>0.300300</td>\n",
       "      <td>0.273224</td>\n",
       "      <td>0.333333</td>\n",
       "      <td>0.906858</td>\n",
       "      <td>0.302286</td>\n",
       "    </tr>\n",
       "    <tr>\n",
       "      <th>Buhari</th>\n",
       "      <td>0.600601</td>\n",
       "      <td>0.546448</td>\n",
       "      <td>0.500000</td>\n",
       "      <td>1.647049</td>\n",
       "      <td>0.549016</td>\n",
       "    </tr>\n",
       "    <tr>\n",
       "      <th>FelaDurotoye</th>\n",
       "      <td>0.099099</td>\n",
       "      <td>0.180328</td>\n",
       "      <td>0.166667</td>\n",
       "      <td>0.446094</td>\n",
       "      <td>0.148698</td>\n",
       "    </tr>\n",
       "  </tbody>\n",
       "</table>\n",
       "</div>"
      ],
      "text/plain": [
       "                 Atiku    Buhari  FelaDurotoye      Rsum  \\\n",
       "Atiku         0.300300  0.273224      0.333333  0.906858   \n",
       "Buhari        0.600601  0.546448      0.500000  1.647049   \n",
       "FelaDurotoye  0.099099  0.180328      0.166667  0.446094   \n",
       "\n",
       "              Raverage/criteriaVector  \n",
       "Atiku                        0.302286  \n",
       "Buhari                       0.549016  \n",
       "FelaDurotoye                 0.148698  "
      ]
     },
     "execution_count": 29,
     "metadata": {},
     "output_type": "execute_result"
    }
   ],
   "source": [
    "#normalizing the critera\n",
    "Age['Atiku'] = Age['Atiku']/sum(Age['Atiku'])\n",
    "Age['Buhari'] = Age['Buhari']/sum(Age['Buhari'])\n",
    "Age['FelaDurotoye'] = Age['FelaDurotoye']/sum(Age['FelaDurotoye'])\n",
    "Age[\"Rsum\"] = Age.Atiku + Age.Buhari + Age.FelaDurotoye \n",
    "Age['Raverage/criteriaVector'] = Age.Rsum/3\n",
    "Age"
   ]
  },
  {
   "cell_type": "markdown",
   "metadata": {},
   "source": [
    "# IF IT WERE TO BE BY AGE NO DOUBT BUHARI IS THE ONE\n",
    "LIKE I SAID YOU CAN CHANGE ATTRIBUTES"
   ]
  },
  {
   "cell_type": "code",
   "execution_count": 30,
   "metadata": {},
   "outputs": [
    {
     "data": {
      "text/plain": [
       "<matplotlib.axes._subplots.AxesSubplot at 0x1ee1f5df320>"
      ]
     },
     "execution_count": 30,
     "metadata": {},
     "output_type": "execute_result"
    },
    {
     "data": {
      "image/png": "[encoded data removed]",
      "text/plain": [
       "<matplotlib.figure.Figure at 0x1ee1f5a8320>"
      ]
     },
     "metadata": {},
     "output_type": "display_data"
    }
   ],
   "source": [
    "Age['Age'] = Age.index\n",
    "sns.barplot(x= \"Age\" ,y= 'Raverage/criteriaVector',data=Age)"
   ]
  },
  {
   "cell_type": "markdown",
   "metadata": {},
   "source": [
    "# TRUSTWORTHY"
   ]
  },
  {
   "cell_type": "code",
   "execution_count": 31,
   "metadata": {},
   "outputs": [
    {
     "name": "stdout",
     "output_type": "stream",
     "text": [
      "please enter the ranking for the position 1\n",
      "please enter the ranking for the position 2\n",
      "please enter the ranking for the position 3\n",
      "please enter the ranking for the position 0.5\n",
      "please enter the ranking for the position 1\n",
      "please enter the ranking for the position 2\n",
      "please enter the ranking for the position 0.33\n",
      "please enter the ranking for the position 0.5\n",
      "please enter the ranking for the position 1\n"
     ]
    }
   ],
   "source": [
    "# for trustworthy\n",
    "a = float(input('please enter the ranking for the position '))\n",
    "b = float(input('please enter the ranking for the position '))\n",
    "c = float(input('please enter the ranking for the position '))\n",
    "d = float(input('please enter the ranking for the position '))\n",
    "e = float(input('please enter the ranking for the position '))\n",
    "f = float(input('please enter the ranking for the position '))\n",
    "g = float(input('please enter the ranking for the position '))\n",
    "h = float(input('please enter the ranking for the position '))\n",
    "i = float(input('please enter the ranking for the position '))"
   ]
  },
  {
   "cell_type": "code",
   "execution_count": 32,
   "metadata": {},
   "outputs": [],
   "source": [
    "trust  = pd.DataFrame({'Atiku':[a,b,c], 'Buhari':[d,e,f],\n",
    "              \"FelaDurotoye\": [g,h,i]},\n",
    "             index = [\"Atiku\",\"Buhari\",\"FelaDurotoye\"])"
   ]
  },
  {
   "cell_type": "code",
   "execution_count": 33,
   "metadata": {},
   "outputs": [
    {
     "data": {
      "text/html": [
       "<div>\n",
       "<style scoped>\n",
       "    .dataframe tbody tr th:only-of-type {\n",
       "        vertical-align: middle;\n",
       "    }\n",
       "\n",
       "    .dataframe tbody tr th {\n",
       "        vertical-align: top;\n",
       "    }\n",
       "\n",
       "    .dataframe thead th {\n",
       "        text-align: right;\n",
       "    }\n",
       "</style>\n",
       "<table border=\"1\" class=\"dataframe\">\n",
       "  <thead>\n",
       "    <tr style=\"text-align: right;\">\n",
       "      <th></th>\n",
       "      <th>Atiku</th>\n",
       "      <th>Buhari</th>\n",
       "      <th>FelaDurotoye</th>\n",
       "    </tr>\n",
       "  </thead>\n",
       "  <tbody>\n",
       "    <tr>\n",
       "      <th>Atiku</th>\n",
       "      <td>1.0</td>\n",
       "      <td>0.5</td>\n",
       "      <td>0.33</td>\n",
       "    </tr>\n",
       "    <tr>\n",
       "      <th>Buhari</th>\n",
       "      <td>2.0</td>\n",
       "      <td>1.0</td>\n",
       "      <td>0.50</td>\n",
       "    </tr>\n",
       "    <tr>\n",
       "      <th>FelaDurotoye</th>\n",
       "      <td>3.0</td>\n",
       "      <td>2.0</td>\n",
       "      <td>1.00</td>\n",
       "    </tr>\n",
       "  </tbody>\n",
       "</table>\n",
       "</div>"
      ],
      "text/plain": [
       "              Atiku  Buhari  FelaDurotoye\n",
       "Atiku           1.0     0.5          0.33\n",
       "Buhari          2.0     1.0          0.50\n",
       "FelaDurotoye    3.0     2.0          1.00"
      ]
     },
     "execution_count": 33,
     "metadata": {},
     "output_type": "execute_result"
    }
   ],
   "source": [
    "trust"
   ]
  },
  {
   "cell_type": "code",
   "execution_count": 34,
   "metadata": {},
   "outputs": [
    {
     "data": {
      "text/html": [
       "<div>\n",
       "<style scoped>\n",
       "    .dataframe tbody tr th:only-of-type {\n",
       "        vertical-align: middle;\n",
       "    }\n",
       "\n",
       "    .dataframe tbody tr th {\n",
       "        vertical-align: top;\n",
       "    }\n",
       "\n",
       "    .dataframe thead th {\n",
       "        text-align: right;\n",
       "    }\n",
       "</style>\n",
       "<table border=\"1\" class=\"dataframe\">\n",
       "  <thead>\n",
       "    <tr style=\"text-align: right;\">\n",
       "      <th></th>\n",
       "      <th>Atiku</th>\n",
       "      <th>Buhari</th>\n",
       "      <th>FelaDurotoye</th>\n",
       "      <th>Rsum</th>\n",
       "      <th>Raverage/criteriaVector</th>\n",
       "    </tr>\n",
       "  </thead>\n",
       "  <tbody>\n",
       "    <tr>\n",
       "      <th>Atiku</th>\n",
       "      <td>0.166667</td>\n",
       "      <td>0.142857</td>\n",
       "      <td>0.180328</td>\n",
       "      <td>0.489852</td>\n",
       "      <td>0.163284</td>\n",
       "    </tr>\n",
       "    <tr>\n",
       "      <th>Buhari</th>\n",
       "      <td>0.333333</td>\n",
       "      <td>0.285714</td>\n",
       "      <td>0.273224</td>\n",
       "      <td>0.892272</td>\n",
       "      <td>0.297424</td>\n",
       "    </tr>\n",
       "    <tr>\n",
       "      <th>FelaDurotoye</th>\n",
       "      <td>0.500000</td>\n",
       "      <td>0.571429</td>\n",
       "      <td>0.546448</td>\n",
       "      <td>1.617877</td>\n",
       "      <td>0.539292</td>\n",
       "    </tr>\n",
       "  </tbody>\n",
       "</table>\n",
       "</div>"
      ],
      "text/plain": [
       "                 Atiku    Buhari  FelaDurotoye      Rsum  \\\n",
       "Atiku         0.166667  0.142857      0.180328  0.489852   \n",
       "Buhari        0.333333  0.285714      0.273224  0.892272   \n",
       "FelaDurotoye  0.500000  0.571429      0.546448  1.617877   \n",
       "\n",
       "              Raverage/criteriaVector  \n",
       "Atiku                        0.163284  \n",
       "Buhari                       0.297424  \n",
       "FelaDurotoye                 0.539292  "
      ]
     },
     "execution_count": 34,
     "metadata": {},
     "output_type": "execute_result"
    }
   ],
   "source": [
    "#normalizing the critera\n",
    "trust['Atiku'] = trust['Atiku']/sum(trust['Atiku'])\n",
    "trust['Buhari'] = trust['Buhari']/sum(trust['Buhari'])\n",
    "trust['FelaDurotoye'] = trust['FelaDurotoye']/sum(trust['FelaDurotoye'])\n",
    "trust[\"Rsum\"] = trust.Atiku + trust.Buhari + trust.FelaDurotoye \n",
    "trust['Raverage/criteriaVector'] = trust.Rsum/3\n",
    "trust"
   ]
  },
  {
   "cell_type": "markdown",
   "metadata": {},
   "source": [
    "# According to my ranking fela is more trustworthy than buhari\n",
    "# and buhari is more trustworthy than atiku"
   ]
  },
  {
   "cell_type": "code",
   "execution_count": 35,
   "metadata": {},
   "outputs": [
    {
     "data": {
      "text/plain": [
       "<matplotlib.axes._subplots.AxesSubplot at 0x1ee1f5925c0>"
      ]
     },
     "execution_count": 35,
     "metadata": {},
     "output_type": "execute_result"
    },
    {
     "data": {
      "image/png": "[encoded data removed]",
      "text/plain": [
       "<matplotlib.figure.Figure at 0x1ee1f5b1898>"
      ]
     },
     "metadata": {},
     "output_type": "display_data"
    }
   ],
   "source": [
    "trust['trustWorthy'] = trust.index\n",
    "sns.barplot(x= \"trustWorthy\" ,y= 'Raverage/criteriaVector',data=trust)"
   ]
  },
  {
   "cell_type": "markdown",
   "metadata": {},
   "source": [
    "# INTEGRITY"
   ]
  },
  {
   "cell_type": "code",
   "execution_count": 36,
   "metadata": {},
   "outputs": [
    {
     "name": "stdout",
     "output_type": "stream",
     "text": [
      "please enter the ranking for the position 1\n",
      "please enter the ranking for the position 3\n",
      "please enter the ranking for the position 3\n",
      "please enter the ranking for the position 0.33\n",
      "please enter the ranking for the position 1\n",
      "please enter the ranking for the position 3\n",
      "please enter the ranking for the position 0.33\n",
      "please enter the ranking for the position 0.33\n",
      "please enter the ranking for the position 1\n"
     ]
    }
   ],
   "source": [
    "# for trustworthy\n",
    "a = float(input('please enter the ranking for the position '))\n",
    "b = float(input('please enter the ranking for the position '))\n",
    "c = float(input('please enter the ranking for the position '))\n",
    "d = float(input('please enter the ranking for the position '))\n",
    "e = float(input('please enter the ranking for the position '))\n",
    "f = float(input('please enter the ranking for the position '))\n",
    "g = float(input('please enter the ranking for the position '))\n",
    "h = float(input('please enter the ranking for the position '))\n",
    "i = float(input('please enter the ranking for the position '))"
   ]
  },
  {
   "cell_type": "code",
   "execution_count": 37,
   "metadata": {},
   "outputs": [],
   "source": [
    "Integrity  = pd.DataFrame({'Atiku':[a,b,c], 'Buhari':[d,e,f],\n",
    "              \"FelaDurotoye\": [g,h,i]},\n",
    "             index = [\"Atiku\",\"Buhari\",\"FelaDurotoye\"])"
   ]
  },
  {
   "cell_type": "code",
   "execution_count": 38,
   "metadata": {},
   "outputs": [
    {
     "data": {
      "text/html": [
       "<div>\n",
       "<style scoped>\n",
       "    .dataframe tbody tr th:only-of-type {\n",
       "        vertical-align: middle;\n",
       "    }\n",
       "\n",
       "    .dataframe tbody tr th {\n",
       "        vertical-align: top;\n",
       "    }\n",
       "\n",
       "    .dataframe thead th {\n",
       "        text-align: right;\n",
       "    }\n",
       "</style>\n",
       "<table border=\"1\" class=\"dataframe\">\n",
       "  <thead>\n",
       "    <tr style=\"text-align: right;\">\n",
       "      <th></th>\n",
       "      <th>Atiku</th>\n",
       "      <th>Buhari</th>\n",
       "      <th>FelaDurotoye</th>\n",
       "    </tr>\n",
       "  </thead>\n",
       "  <tbody>\n",
       "    <tr>\n",
       "      <th>Atiku</th>\n",
       "      <td>1.0</td>\n",
       "      <td>0.33</td>\n",
       "      <td>0.33</td>\n",
       "    </tr>\n",
       "    <tr>\n",
       "      <th>Buhari</th>\n",
       "      <td>3.0</td>\n",
       "      <td>1.00</td>\n",
       "      <td>0.33</td>\n",
       "    </tr>\n",
       "    <tr>\n",
       "      <th>FelaDurotoye</th>\n",
       "      <td>3.0</td>\n",
       "      <td>3.00</td>\n",
       "      <td>1.00</td>\n",
       "    </tr>\n",
       "  </tbody>\n",
       "</table>\n",
       "</div>"
      ],
      "text/plain": [
       "              Atiku  Buhari  FelaDurotoye\n",
       "Atiku           1.0    0.33          0.33\n",
       "Buhari          3.0    1.00          0.33\n",
       "FelaDurotoye    3.0    3.00          1.00"
      ]
     },
     "execution_count": 38,
     "metadata": {},
     "output_type": "execute_result"
    }
   ],
   "source": [
    "Integrity"
   ]
  },
  {
   "cell_type": "code",
   "execution_count": 41,
   "metadata": {},
   "outputs": [
    {
     "data": {
      "text/html": [
       "<div>\n",
       "<style scoped>\n",
       "    .dataframe tbody tr th:only-of-type {\n",
       "        vertical-align: middle;\n",
       "    }\n",
       "\n",
       "    .dataframe tbody tr th {\n",
       "        vertical-align: top;\n",
       "    }\n",
       "\n",
       "    .dataframe thead th {\n",
       "        text-align: right;\n",
       "    }\n",
       "</style>\n",
       "<table border=\"1\" class=\"dataframe\">\n",
       "  <thead>\n",
       "    <tr style=\"text-align: right;\">\n",
       "      <th></th>\n",
       "      <th>Atiku</th>\n",
       "      <th>Buhari</th>\n",
       "      <th>FelaDurotoye</th>\n",
       "      <th>Rsum</th>\n",
       "      <th>Raverage/criteriaVector</th>\n",
       "    </tr>\n",
       "  </thead>\n",
       "  <tbody>\n",
       "    <tr>\n",
       "      <th>Atiku</th>\n",
       "      <td>0.142857</td>\n",
       "      <td>0.076212</td>\n",
       "      <td>0.198795</td>\n",
       "      <td>0.417865</td>\n",
       "      <td>0.139288</td>\n",
       "    </tr>\n",
       "    <tr>\n",
       "      <th>Buhari</th>\n",
       "      <td>0.428571</td>\n",
       "      <td>0.230947</td>\n",
       "      <td>0.198795</td>\n",
       "      <td>0.858313</td>\n",
       "      <td>0.286104</td>\n",
       "    </tr>\n",
       "    <tr>\n",
       "      <th>FelaDurotoye</th>\n",
       "      <td>0.428571</td>\n",
       "      <td>0.692841</td>\n",
       "      <td>0.602410</td>\n",
       "      <td>1.723822</td>\n",
       "      <td>0.574607</td>\n",
       "    </tr>\n",
       "  </tbody>\n",
       "</table>\n",
       "</div>"
      ],
      "text/plain": [
       "                 Atiku    Buhari  FelaDurotoye      Rsum  \\\n",
       "Atiku         0.142857  0.076212      0.198795  0.417865   \n",
       "Buhari        0.428571  0.230947      0.198795  0.858313   \n",
       "FelaDurotoye  0.428571  0.692841      0.602410  1.723822   \n",
       "\n",
       "              Raverage/criteriaVector  \n",
       "Atiku                        0.139288  \n",
       "Buhari                       0.286104  \n",
       "FelaDurotoye                 0.574607  "
      ]
     },
     "execution_count": 41,
     "metadata": {},
     "output_type": "execute_result"
    }
   ],
   "source": [
    "#normalizing the critera\n",
    "Integrity['Atiku'] = Integrity['Atiku']/sum(Integrity['Atiku'])\n",
    "Integrity['Buhari'] = Integrity['Buhari']/sum(Integrity['Buhari'])\n",
    "Integrity['FelaDurotoye'] = Integrity['FelaDurotoye']/sum(Integrity['FelaDurotoye'])\n",
    "Integrity[\"Rsum\"] = Integrity.Atiku + Integrity.Buhari + Integrity.FelaDurotoye \n",
    "Integrity['Raverage/criteriaVector'] = Integrity.Rsum/3\n",
    "Integrity"
   ]
  },
  {
   "cell_type": "markdown",
   "metadata": {},
   "source": [
    "# The winner here is also crystal clear "
   ]
  },
  {
   "cell_type": "code",
   "execution_count": 42,
   "metadata": {},
   "outputs": [
    {
     "data": {
      "text/plain": [
       "<matplotlib.axes._subplots.AxesSubplot at 0x1ee1fce7588>"
      ]
     },
     "execution_count": 42,
     "metadata": {},
     "output_type": "execute_result"
    },
    {
     "data": {
      "image/png": "[encoded data removed]",
      "text/plain": [
       "<matplotlib.figure.Figure at 0x1ee1fce9eb8>"
      ]
     },
     "metadata": {},
     "output_type": "display_data"
    }
   ],
   "source": [
    "Integrity['trustWorthy'] = trust.index\n",
    "sns.barplot(x= \"trustWorthy\" ,y= 'Raverage/criteriaVector',data=trust)"
   ]
  },
  {
   "cell_type": "markdown",
   "metadata": {},
   "source": [
    "# Then finally"
   ]
  },
  {
   "cell_type": "code",
   "execution_count": 58,
   "metadata": {},
   "outputs": [
    {
     "data": {
      "text/html": [
       "<div>\n",
       "<style scoped>\n",
       "    .dataframe tbody tr th:only-of-type {\n",
       "        vertical-align: middle;\n",
       "    }\n",
       "\n",
       "    .dataframe tbody tr th {\n",
       "        vertical-align: top;\n",
       "    }\n",
       "\n",
       "    .dataframe thead th {\n",
       "        text-align: right;\n",
       "    }\n",
       "</style>\n",
       "<table border=\"1\" class=\"dataframe\">\n",
       "  <thead>\n",
       "    <tr style=\"text-align: right;\">\n",
       "      <th></th>\n",
       "      <th>Atiku</th>\n",
       "      <th>Buhari</th>\n",
       "      <th>FelaDurotoye</th>\n",
       "    </tr>\n",
       "  </thead>\n",
       "  <tbody>\n",
       "    <tr>\n",
       "      <th>Raverage/criteriaVector</th>\n",
       "      <td>0.334032</td>\n",
       "      <td>0.140761</td>\n",
       "      <td>0.525207</td>\n",
       "    </tr>\n",
       "    <tr>\n",
       "      <th>Raverage/criteriaVector</th>\n",
       "      <td>0.302286</td>\n",
       "      <td>0.549016</td>\n",
       "      <td>0.148698</td>\n",
       "    </tr>\n",
       "    <tr>\n",
       "      <th>Raverage/criteriaVector</th>\n",
       "      <td>0.163284</td>\n",
       "      <td>0.297424</td>\n",
       "      <td>0.539292</td>\n",
       "    </tr>\n",
       "    <tr>\n",
       "      <th>Raverage/criteriaVector</th>\n",
       "      <td>0.139288</td>\n",
       "      <td>0.286104</td>\n",
       "      <td>0.574607</td>\n",
       "    </tr>\n",
       "  </tbody>\n",
       "</table>\n",
       "</div>"
      ],
      "text/plain": [
       "                            Atiku    Buhari  FelaDurotoye\n",
       "Raverage/criteriaVector  0.334032  0.140761      0.525207\n",
       "Raverage/criteriaVector  0.302286  0.549016      0.148698\n",
       "Raverage/criteriaVector  0.163284  0.297424      0.539292\n",
       "Raverage/criteriaVector  0.139288  0.286104      0.574607"
      ]
     },
     "execution_count": 58,
     "metadata": {},
     "output_type": "execute_result"
    }
   ],
   "source": [
    "pd.DataFrame([Education['Raverage/criteriaVector']\n",
    "             , Age['Raverage/criteriaVector'],  trust['Raverage/criteriaVector'],\n",
    "            Integrity[\"Raverage/criteriaVector\"]])"
   ]
  },
  {
   "cell_type": "code",
   "execution_count": 77,
   "metadata": {},
   "outputs": [],
   "source": [
    "x = pd.DataFrame(Age['Raverage/criteriaVector'])\n",
    "y = pd.DataFrame(Education[\"Raverage/criteriaVector\"])\n",
    "z = pd.DataFrame(trust[\"Raverage/criteriaVector\"])\n",
    "w = pd.DataFrame(Integrity[\"Raverage/criteriaVector\"])"
   ]
  },
  {
   "cell_type": "code",
   "execution_count": 81,
   "metadata": {},
   "outputs": [],
   "source": [
    "total = pd.DataFrame(pd.concat([x,y,z,w],axis = 1,))"
   ]
  },
  {
   "cell_type": "code",
   "execution_count": 82,
   "metadata": {},
   "outputs": [
    {
     "data": {
      "text/html": [
       "<div>\n",
       "<style scoped>\n",
       "    .dataframe tbody tr th:only-of-type {\n",
       "        vertical-align: middle;\n",
       "    }\n",
       "\n",
       "    .dataframe tbody tr th {\n",
       "        vertical-align: top;\n",
       "    }\n",
       "\n",
       "    .dataframe thead th {\n",
       "        text-align: right;\n",
       "    }\n",
       "</style>\n",
       "<table border=\"1\" class=\"dataframe\">\n",
       "  <thead>\n",
       "    <tr style=\"text-align: right;\">\n",
       "      <th></th>\n",
       "      <th>Raverage/criteriaVector</th>\n",
       "      <th>Raverage/criteriaVector</th>\n",
       "      <th>Raverage/criteriaVector</th>\n",
       "      <th>Raverage/criteriaVector</th>\n",
       "    </tr>\n",
       "  </thead>\n",
       "  <tbody>\n",
       "    <tr>\n",
       "      <th>Atiku</th>\n",
       "      <td>0.302286</td>\n",
       "      <td>0.334032</td>\n",
       "      <td>0.163284</td>\n",
       "      <td>0.139288</td>\n",
       "    </tr>\n",
       "    <tr>\n",
       "      <th>Buhari</th>\n",
       "      <td>0.549016</td>\n",
       "      <td>0.140761</td>\n",
       "      <td>0.297424</td>\n",
       "      <td>0.286104</td>\n",
       "    </tr>\n",
       "    <tr>\n",
       "      <th>FelaDurotoye</th>\n",
       "      <td>0.148698</td>\n",
       "      <td>0.525207</td>\n",
       "      <td>0.539292</td>\n",
       "      <td>0.574607</td>\n",
       "    </tr>\n",
       "  </tbody>\n",
       "</table>\n",
       "</div>"
      ],
      "text/plain": [
       "              Raverage/criteriaVector  Raverage/criteriaVector  \\\n",
       "Atiku                        0.302286                 0.334032   \n",
       "Buhari                       0.549016                 0.140761   \n",
       "FelaDurotoye                 0.148698                 0.525207   \n",
       "\n",
       "              Raverage/criteriaVector  Raverage/criteriaVector  \n",
       "Atiku                        0.163284                 0.139288  \n",
       "Buhari                       0.297424                 0.286104  \n",
       "FelaDurotoye                 0.539292                 0.574607  "
      ]
     },
     "execution_count": 82,
     "metadata": {},
     "output_type": "execute_result"
    }
   ],
   "source": [
    "total"
   ]
  },
  {
   "cell_type": "markdown",
   "metadata": {},
   "source": [
    "# The final criteria weights"
   ]
  },
  {
   "cell_type": "code",
   "execution_count": 86,
   "metadata": {},
   "outputs": [],
   "source": [
    "final = pd.DataFrame({\"Candidate\": [\"Atiku\",\"Buhari\",\"FelaDurotoye\"], \"CriteriaWeights\":[0.22,0.28,0.51]})"
   ]
  },
  {
   "cell_type": "code",
   "execution_count": 87,
   "metadata": {},
   "outputs": [
    {
     "data": {
      "text/html": [
       "<div>\n",
       "<style scoped>\n",
       "    .dataframe tbody tr th:only-of-type {\n",
       "        vertical-align: middle;\n",
       "    }\n",
       "\n",
       "    .dataframe tbody tr th {\n",
       "        vertical-align: top;\n",
       "    }\n",
       "\n",
       "    .dataframe thead th {\n",
       "        text-align: right;\n",
       "    }\n",
       "</style>\n",
       "<table border=\"1\" class=\"dataframe\">\n",
       "  <thead>\n",
       "    <tr style=\"text-align: right;\">\n",
       "      <th></th>\n",
       "      <th>Candidate</th>\n",
       "      <th>CriteriaWeights</th>\n",
       "    </tr>\n",
       "  </thead>\n",
       "  <tbody>\n",
       "    <tr>\n",
       "      <th>0</th>\n",
       "      <td>Atiku</td>\n",
       "      <td>0.22</td>\n",
       "    </tr>\n",
       "    <tr>\n",
       "      <th>1</th>\n",
       "      <td>Buhari</td>\n",
       "      <td>0.28</td>\n",
       "    </tr>\n",
       "    <tr>\n",
       "      <th>2</th>\n",
       "      <td>FelaDurotoye</td>\n",
       "      <td>0.51</td>\n",
       "    </tr>\n",
       "  </tbody>\n",
       "</table>\n",
       "</div>"
      ],
      "text/plain": [
       "      Candidate  CriteriaWeights\n",
       "0         Atiku             0.22\n",
       "1        Buhari             0.28\n",
       "2  FelaDurotoye             0.51"
      ]
     },
     "execution_count": 87,
     "metadata": {},
     "output_type": "execute_result"
    }
   ],
   "source": [
    "final"
   ]
  },
  {
   "cell_type": "code",
   "execution_count": 88,
   "metadata": {},
   "outputs": [
    {
     "data": {
      "text/plain": [
       "<matplotlib.axes._subplots.AxesSubplot at 0x1ee256e7cf8>"
      ]
     },
     "execution_count": 88,
     "metadata": {},
     "output_type": "execute_result"
    },
    {
     "data": {
      "image/png": "[encoded data removed]",
      "text/plain": [
       "<matplotlib.figure.Figure at 0x1ee256e7ef0>"
      ]
     },
     "metadata": {},
     "output_type": "display_data"
    }
   ],
   "source": [
    "sns.barplot(x= \"Candidate\" ,y= 'CriteriaWeights',data=final)"
   ]
  },
  {
   "cell_type": "code",
   "execution_count": null,
   "metadata": {},
   "outputs": [],
   "source": []
  }
 ],
 "metadata": {
  "kernelspec": {
   "display_name": "Python 3",
   "language": "python",
   "name": "python3"
  },
  "language_info": {
   "codemirror_mode": {
    "name": "ipython",
    "version": 3
   },
   "file_extension": ".py",
   "mimetype": "text/x-python",
   "name": "python",
   "nbconvert_exporter": "python",
   "pygments_lexer": "ipython3",
   "version": "3.6.4"
  }
 },
 "nbformat": 4,
 "nbformat_minor": 2
}
